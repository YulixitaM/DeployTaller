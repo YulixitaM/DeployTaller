{
 "cells": [
  {
   "cell_type": "code",
   "execution_count": 5,
   "id": "d0295309",
   "metadata": {},
   "outputs": [
    {
     "name": "stdout",
     "output_type": "stream",
     "text": [
      "\n",
      "!\tWARNING:\n",
      "!\tDo not authenticate with username and password using git.\n",
      "!\tRun `heroku login` to update your credentials, then retry the git command.\n",
      "!\tSee documentation for details: https://devcenter.heroku.com/articles/git#http-git-authentication\n",
      "\n"
     ]
    },
    {
     "name": "stderr",
     "output_type": "stream",
     "text": [
      "  % Total    % Received % Xferd  Average Speed   Time    Time     Time  Current\n",
      "                                 Dload  Upload   Total   Spent    Left  Speed\n",
      "\n",
      "  0     0    0     0    0     0      0      0 --:--:-- --:--:-- --:--:--     0\n",
      "  0     0    0     0    0     0      0      0 --:--:-- --:--:-- --:--:--     0\n",
      "  0     0    0     0    0     0      0      0 --:--:--  0:00:01 --:--:--     0\n",
      "100   311  100   249  100    62    249     62  0:00:01  0:00:01 --:--:--   272\n"
     ]
    }
   ],
   "source": [
    "!curl -d \"{\\\"Datos\\\":[[1, 85, 66, 29, 0, 26.6, 0.351, 31, 0, 0, 0, 0, 0]]}\" -H \"Content-Type: application/json\" -X POST  https://git.heroku.com/tallerdeploy.git/predecir"
   ]
  },
  {
   "cell_type": "code",
   "execution_count": 2,
   "id": "e9a48d9c",
   "metadata": {},
   "outputs": [
    {
     "name": "stdout",
     "output_type": "stream",
     "text": [
      "El paciente corresponde a la clase Sano /n\n"
     ]
    },
    {
     "name": "stderr",
     "output_type": "stream",
     "text": [
      "  % Total    % Received % Xferd  Average Speed   Time    Time     Time  Current\n",
      "                                 Dload  Upload   Total   Spent    Left  Speed\n",
      "\n",
      "  0     0    0     0    0     0      0      0 --:--:-- --:--:-- --:--:--     0\n",
      "100    99  100    42  100    57  13047  17707 --:--:-- --:--:-- --:--:-- 49500\n"
     ]
    }
   ],
   "source": [
    "!curl -d \"{\\\"Datos\\\":[[6,148,72,35,0,33.6,0.627,50, 1, 2, 4, 6, 0 ]]}\" -H \"Content-Type: application/json\" -X POST http://127.0.0.1:5000/predecir"
   ]
  },
  {
   "cell_type": "code",
   "execution_count": null,
   "id": "4151107a",
   "metadata": {},
   "outputs": [],
   "source": []
  }
 ],
 "metadata": {
  "kernelspec": {
   "display_name": "Python 3 (ipykernel)",
   "language": "python",
   "name": "python3"
  },
  "language_info": {
   "codemirror_mode": {
    "name": "ipython",
    "version": 3
   },
   "file_extension": ".py",
   "mimetype": "text/x-python",
   "name": "python",
   "nbconvert_exporter": "python",
   "pygments_lexer": "ipython3",
   "version": "3.7.10"
  }
 },
 "nbformat": 4,
 "nbformat_minor": 5
}
